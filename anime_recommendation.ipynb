{
 "cells": [
  {
   "cell_type": "markdown",
   "metadata": {},
   "source": [
    "# Importing libraries"
   ]
  },
  {
   "cell_type": "code",
   "execution_count": 4,
   "metadata": {},
   "outputs": [],
   "source": [
    "import numpy as np\n",
    "import pandas as pd"
   ]
  },
  {
   "cell_type": "code",
   "execution_count": 5,
   "metadata": {},
   "outputs": [],
   "source": [
    "anime_df=pd.read_csv('anime_dataset_2023.csv')"
   ]
  },
  {
   "cell_type": "code",
   "execution_count": 6,
   "metadata": {},
   "outputs": [
    {
     "data": {
      "text/html": [
       "<div>\n",
       "<style scoped>\n",
       "    .dataframe tbody tr th:only-of-type {\n",
       "        vertical-align: middle;\n",
       "    }\n",
       "\n",
       "    .dataframe tbody tr th {\n",
       "        vertical-align: top;\n",
       "    }\n",
       "\n",
       "    .dataframe thead th {\n",
       "        text-align: right;\n",
       "    }\n",
       "</style>\n",
       "<table border=\"1\" class=\"dataframe\">\n",
       "  <thead>\n",
       "    <tr style=\"text-align: right;\">\n",
       "      <th></th>\n",
       "      <th>anime_id</th>\n",
       "      <th>Name</th>\n",
       "      <th>English name</th>\n",
       "      <th>Other name</th>\n",
       "      <th>Score</th>\n",
       "      <th>Genres</th>\n",
       "      <th>Synopsis</th>\n",
       "      <th>Type</th>\n",
       "      <th>Episodes</th>\n",
       "      <th>Aired</th>\n",
       "      <th>...</th>\n",
       "      <th>Studios</th>\n",
       "      <th>Source</th>\n",
       "      <th>Duration</th>\n",
       "      <th>Rating</th>\n",
       "      <th>Rank</th>\n",
       "      <th>Popularity</th>\n",
       "      <th>Favorites</th>\n",
       "      <th>Scored By</th>\n",
       "      <th>Members</th>\n",
       "      <th>Image URL</th>\n",
       "    </tr>\n",
       "  </thead>\n",
       "  <tbody>\n",
       "    <tr>\n",
       "      <th>0</th>\n",
       "      <td>1</td>\n",
       "      <td>Cowboy Bebop</td>\n",
       "      <td>Cowboy Bebop</td>\n",
       "      <td>カウボーイビバップ</td>\n",
       "      <td>8.75</td>\n",
       "      <td>Action, Award Winning, Sci-Fi</td>\n",
       "      <td>Crime is timeless. By the year 2071, humanity ...</td>\n",
       "      <td>TV</td>\n",
       "      <td>26.0</td>\n",
       "      <td>Apr 3, 1998 to Apr 24, 1999</td>\n",
       "      <td>...</td>\n",
       "      <td>Sunrise</td>\n",
       "      <td>Original</td>\n",
       "      <td>24 min per ep</td>\n",
       "      <td>R - 17+ (violence &amp; profanity)</td>\n",
       "      <td>41.0</td>\n",
       "      <td>43</td>\n",
       "      <td>78525</td>\n",
       "      <td>914193.0</td>\n",
       "      <td>1771505</td>\n",
       "      <td>https://cdn.myanimelist.net/images/anime/4/196...</td>\n",
       "    </tr>\n",
       "    <tr>\n",
       "      <th>1</th>\n",
       "      <td>5</td>\n",
       "      <td>Cowboy Bebop: Tengoku no Tobira</td>\n",
       "      <td>Cowboy Bebop: The Movie</td>\n",
       "      <td>カウボーイビバップ 天国の扉</td>\n",
       "      <td>8.38</td>\n",
       "      <td>Action, Sci-Fi</td>\n",
       "      <td>Another day, another bounty—such is the life o...</td>\n",
       "      <td>Movie</td>\n",
       "      <td>1.0</td>\n",
       "      <td>Sep 1, 2001</td>\n",
       "      <td>...</td>\n",
       "      <td>Bones</td>\n",
       "      <td>Original</td>\n",
       "      <td>1 hr 55 min</td>\n",
       "      <td>R - 17+ (violence &amp; profanity)</td>\n",
       "      <td>189.0</td>\n",
       "      <td>602</td>\n",
       "      <td>1448</td>\n",
       "      <td>206248.0</td>\n",
       "      <td>360978</td>\n",
       "      <td>https://cdn.myanimelist.net/images/anime/1439/...</td>\n",
       "    </tr>\n",
       "    <tr>\n",
       "      <th>2</th>\n",
       "      <td>6</td>\n",
       "      <td>Trigun</td>\n",
       "      <td>Trigun</td>\n",
       "      <td>トライガン</td>\n",
       "      <td>8.22</td>\n",
       "      <td>Action, Adventure, Sci-Fi</td>\n",
       "      <td>Vash the Stampede is the man with a $$60,000,0...</td>\n",
       "      <td>TV</td>\n",
       "      <td>26.0</td>\n",
       "      <td>Apr 1, 1998 to Sep 30, 1998</td>\n",
       "      <td>...</td>\n",
       "      <td>Madhouse</td>\n",
       "      <td>Manga</td>\n",
       "      <td>24 min per ep</td>\n",
       "      <td>PG-13 - Teens 13 or older</td>\n",
       "      <td>328.0</td>\n",
       "      <td>246</td>\n",
       "      <td>15035</td>\n",
       "      <td>356739.0</td>\n",
       "      <td>727252</td>\n",
       "      <td>https://cdn.myanimelist.net/images/anime/7/203...</td>\n",
       "    </tr>\n",
       "    <tr>\n",
       "      <th>3</th>\n",
       "      <td>7</td>\n",
       "      <td>Witch Hunter Robin</td>\n",
       "      <td>Witch Hunter Robin</td>\n",
       "      <td>Witch Hunter ROBIN (ウイッチハンターロビン)</td>\n",
       "      <td>7.25</td>\n",
       "      <td>Action, Drama, Mystery, Supernatural</td>\n",
       "      <td>Robin Sena is a powerful craft user drafted in...</td>\n",
       "      <td>TV</td>\n",
       "      <td>26.0</td>\n",
       "      <td>Jul 3, 2002 to Dec 25, 2002</td>\n",
       "      <td>...</td>\n",
       "      <td>Sunrise</td>\n",
       "      <td>Original</td>\n",
       "      <td>25 min per ep</td>\n",
       "      <td>PG-13 - Teens 13 or older</td>\n",
       "      <td>2764.0</td>\n",
       "      <td>1795</td>\n",
       "      <td>613</td>\n",
       "      <td>42829.0</td>\n",
       "      <td>111931</td>\n",
       "      <td>https://cdn.myanimelist.net/images/anime/10/19...</td>\n",
       "    </tr>\n",
       "    <tr>\n",
       "      <th>4</th>\n",
       "      <td>8</td>\n",
       "      <td>Bouken Ou Beet</td>\n",
       "      <td>Beet the Vandel Buster</td>\n",
       "      <td>冒険王ビィト</td>\n",
       "      <td>6.94</td>\n",
       "      <td>Adventure, Fantasy, Supernatural</td>\n",
       "      <td>It is the dark century and the people are suff...</td>\n",
       "      <td>TV</td>\n",
       "      <td>52.0</td>\n",
       "      <td>Sep 30, 2004 to Sep 29, 2005</td>\n",
       "      <td>...</td>\n",
       "      <td>Toei Animation</td>\n",
       "      <td>Manga</td>\n",
       "      <td>23 min per ep</td>\n",
       "      <td>PG - Children</td>\n",
       "      <td>4240.0</td>\n",
       "      <td>5126</td>\n",
       "      <td>14</td>\n",
       "      <td>6413.0</td>\n",
       "      <td>15001</td>\n",
       "      <td>https://cdn.myanimelist.net/images/anime/7/215...</td>\n",
       "    </tr>\n",
       "  </tbody>\n",
       "</table>\n",
       "<p>5 rows × 24 columns</p>\n",
       "</div>"
      ],
      "text/plain": [
       "   anime_id                             Name             English name  \\\n",
       "0         1                     Cowboy Bebop             Cowboy Bebop   \n",
       "1         5  Cowboy Bebop: Tengoku no Tobira  Cowboy Bebop: The Movie   \n",
       "2         6                           Trigun                   Trigun   \n",
       "3         7               Witch Hunter Robin       Witch Hunter Robin   \n",
       "4         8                   Bouken Ou Beet   Beet the Vandel Buster   \n",
       "\n",
       "                         Other name Score  \\\n",
       "0                         カウボーイビバップ  8.75   \n",
       "1                    カウボーイビバップ 天国の扉  8.38   \n",
       "2                             トライガン  8.22   \n",
       "3  Witch Hunter ROBIN (ウイッチハンターロビン)  7.25   \n",
       "4                            冒険王ビィト  6.94   \n",
       "\n",
       "                                 Genres  \\\n",
       "0         Action, Award Winning, Sci-Fi   \n",
       "1                        Action, Sci-Fi   \n",
       "2             Action, Adventure, Sci-Fi   \n",
       "3  Action, Drama, Mystery, Supernatural   \n",
       "4      Adventure, Fantasy, Supernatural   \n",
       "\n",
       "                                            Synopsis   Type Episodes  \\\n",
       "0  Crime is timeless. By the year 2071, humanity ...     TV     26.0   \n",
       "1  Another day, another bounty—such is the life o...  Movie      1.0   \n",
       "2  Vash the Stampede is the man with a $$60,000,0...     TV     26.0   \n",
       "3  Robin Sena is a powerful craft user drafted in...     TV     26.0   \n",
       "4  It is the dark century and the people are suff...     TV     52.0   \n",
       "\n",
       "                          Aired  ...         Studios    Source       Duration  \\\n",
       "0   Apr 3, 1998 to Apr 24, 1999  ...         Sunrise  Original  24 min per ep   \n",
       "1                   Sep 1, 2001  ...           Bones  Original    1 hr 55 min   \n",
       "2   Apr 1, 1998 to Sep 30, 1998  ...        Madhouse     Manga  24 min per ep   \n",
       "3   Jul 3, 2002 to Dec 25, 2002  ...         Sunrise  Original  25 min per ep   \n",
       "4  Sep 30, 2004 to Sep 29, 2005  ...  Toei Animation     Manga  23 min per ep   \n",
       "\n",
       "                           Rating    Rank Popularity Favorites Scored By  \\\n",
       "0  R - 17+ (violence & profanity)    41.0         43     78525  914193.0   \n",
       "1  R - 17+ (violence & profanity)   189.0        602      1448  206248.0   \n",
       "2       PG-13 - Teens 13 or older   328.0        246     15035  356739.0   \n",
       "3       PG-13 - Teens 13 or older  2764.0       1795       613   42829.0   \n",
       "4                   PG - Children  4240.0       5126        14    6413.0   \n",
       "\n",
       "   Members                                          Image URL  \n",
       "0  1771505  https://cdn.myanimelist.net/images/anime/4/196...  \n",
       "1   360978  https://cdn.myanimelist.net/images/anime/1439/...  \n",
       "2   727252  https://cdn.myanimelist.net/images/anime/7/203...  \n",
       "3   111931  https://cdn.myanimelist.net/images/anime/10/19...  \n",
       "4    15001  https://cdn.myanimelist.net/images/anime/7/215...  \n",
       "\n",
       "[5 rows x 24 columns]"
      ]
     },
     "execution_count": 6,
     "metadata": {},
     "output_type": "execute_result"
    }
   ],
   "source": [
    "anime_df.head()"
   ]
  },
  {
   "cell_type": "code",
   "execution_count": 7,
   "metadata": {},
   "outputs": [
    {
     "data": {
      "text/plain": [
       "(24905, 24)"
      ]
     },
     "execution_count": 7,
     "metadata": {},
     "output_type": "execute_result"
    }
   ],
   "source": [
    "anime_df.shape"
   ]
  },
  {
   "cell_type": "code",
   "execution_count": 8,
   "metadata": {},
   "outputs": [
    {
     "name": "stdout",
     "output_type": "stream",
     "text": [
      "<class 'pandas.core.frame.DataFrame'>\n",
      "RangeIndex: 24905 entries, 0 to 24904\n",
      "Data columns (total 24 columns):\n",
      " #   Column        Non-Null Count  Dtype \n",
      "---  ------        --------------  ----- \n",
      " 0   anime_id      24905 non-null  int64 \n",
      " 1   Name          24905 non-null  object\n",
      " 2   English name  24905 non-null  object\n",
      " 3   Other name    24905 non-null  object\n",
      " 4   Score         24905 non-null  object\n",
      " 5   Genres        24905 non-null  object\n",
      " 6   Synopsis      24905 non-null  object\n",
      " 7   Type          24905 non-null  object\n",
      " 8   Episodes      24905 non-null  object\n",
      " 9   Aired         24905 non-null  object\n",
      " 10  Premiered     24905 non-null  object\n",
      " 11  Status        24905 non-null  object\n",
      " 12  Producers     24905 non-null  object\n",
      " 13  Licensors     24905 non-null  object\n",
      " 14  Studios       24905 non-null  object\n",
      " 15  Source        24905 non-null  object\n",
      " 16  Duration      24905 non-null  object\n",
      " 17  Rating        24905 non-null  object\n",
      " 18  Rank          24905 non-null  object\n",
      " 19  Popularity    24905 non-null  int64 \n",
      " 20  Favorites     24905 non-null  int64 \n",
      " 21  Scored By     24905 non-null  object\n",
      " 22  Members       24905 non-null  int64 \n",
      " 23  Image URL     24905 non-null  object\n",
      "dtypes: int64(4), object(20)\n",
      "memory usage: 4.6+ MB\n"
     ]
    }
   ],
   "source": [
    "anime_df.info()"
   ]
  },
  {
   "cell_type": "code",
   "execution_count": 9,
   "metadata": {},
   "outputs": [],
   "source": [
    "anime_df=anime_df[['anime_id','Name','English name','Genres','Synopsis','Type','Studios']]"
   ]
  },
  {
   "cell_type": "code",
   "execution_count": 10,
   "metadata": {},
   "outputs": [
    {
     "data": {
      "text/plain": [
       "(24905, 7)"
      ]
     },
     "execution_count": 10,
     "metadata": {},
     "output_type": "execute_result"
    }
   ],
   "source": [
    "anime_df.shape"
   ]
  },
  {
   "cell_type": "code",
   "execution_count": 11,
   "metadata": {},
   "outputs": [
    {
     "data": {
      "text/html": [
       "<div>\n",
       "<style scoped>\n",
       "    .dataframe tbody tr th:only-of-type {\n",
       "        vertical-align: middle;\n",
       "    }\n",
       "\n",
       "    .dataframe tbody tr th {\n",
       "        vertical-align: top;\n",
       "    }\n",
       "\n",
       "    .dataframe thead th {\n",
       "        text-align: right;\n",
       "    }\n",
       "</style>\n",
       "<table border=\"1\" class=\"dataframe\">\n",
       "  <thead>\n",
       "    <tr style=\"text-align: right;\">\n",
       "      <th></th>\n",
       "      <th>anime_id</th>\n",
       "      <th>Name</th>\n",
       "      <th>English name</th>\n",
       "      <th>Genres</th>\n",
       "      <th>Synopsis</th>\n",
       "      <th>Type</th>\n",
       "      <th>Studios</th>\n",
       "    </tr>\n",
       "  </thead>\n",
       "  <tbody>\n",
       "    <tr>\n",
       "      <th>0</th>\n",
       "      <td>1</td>\n",
       "      <td>Cowboy Bebop</td>\n",
       "      <td>Cowboy Bebop</td>\n",
       "      <td>Action, Award Winning, Sci-Fi</td>\n",
       "      <td>Crime is timeless. By the year 2071, humanity ...</td>\n",
       "      <td>TV</td>\n",
       "      <td>Sunrise</td>\n",
       "    </tr>\n",
       "    <tr>\n",
       "      <th>1</th>\n",
       "      <td>5</td>\n",
       "      <td>Cowboy Bebop: Tengoku no Tobira</td>\n",
       "      <td>Cowboy Bebop: The Movie</td>\n",
       "      <td>Action, Sci-Fi</td>\n",
       "      <td>Another day, another bounty—such is the life o...</td>\n",
       "      <td>Movie</td>\n",
       "      <td>Bones</td>\n",
       "    </tr>\n",
       "    <tr>\n",
       "      <th>2</th>\n",
       "      <td>6</td>\n",
       "      <td>Trigun</td>\n",
       "      <td>Trigun</td>\n",
       "      <td>Action, Adventure, Sci-Fi</td>\n",
       "      <td>Vash the Stampede is the man with a $$60,000,0...</td>\n",
       "      <td>TV</td>\n",
       "      <td>Madhouse</td>\n",
       "    </tr>\n",
       "    <tr>\n",
       "      <th>3</th>\n",
       "      <td>7</td>\n",
       "      <td>Witch Hunter Robin</td>\n",
       "      <td>Witch Hunter Robin</td>\n",
       "      <td>Action, Drama, Mystery, Supernatural</td>\n",
       "      <td>Robin Sena is a powerful craft user drafted in...</td>\n",
       "      <td>TV</td>\n",
       "      <td>Sunrise</td>\n",
       "    </tr>\n",
       "    <tr>\n",
       "      <th>4</th>\n",
       "      <td>8</td>\n",
       "      <td>Bouken Ou Beet</td>\n",
       "      <td>Beet the Vandel Buster</td>\n",
       "      <td>Adventure, Fantasy, Supernatural</td>\n",
       "      <td>It is the dark century and the people are suff...</td>\n",
       "      <td>TV</td>\n",
       "      <td>Toei Animation</td>\n",
       "    </tr>\n",
       "  </tbody>\n",
       "</table>\n",
       "</div>"
      ],
      "text/plain": [
       "   anime_id                             Name             English name  \\\n",
       "0         1                     Cowboy Bebop             Cowboy Bebop   \n",
       "1         5  Cowboy Bebop: Tengoku no Tobira  Cowboy Bebop: The Movie   \n",
       "2         6                           Trigun                   Trigun   \n",
       "3         7               Witch Hunter Robin       Witch Hunter Robin   \n",
       "4         8                   Bouken Ou Beet   Beet the Vandel Buster   \n",
       "\n",
       "                                 Genres  \\\n",
       "0         Action, Award Winning, Sci-Fi   \n",
       "1                        Action, Sci-Fi   \n",
       "2             Action, Adventure, Sci-Fi   \n",
       "3  Action, Drama, Mystery, Supernatural   \n",
       "4      Adventure, Fantasy, Supernatural   \n",
       "\n",
       "                                            Synopsis   Type         Studios  \n",
       "0  Crime is timeless. By the year 2071, humanity ...     TV         Sunrise  \n",
       "1  Another day, another bounty—such is the life o...  Movie           Bones  \n",
       "2  Vash the Stampede is the man with a $$60,000,0...     TV        Madhouse  \n",
       "3  Robin Sena is a powerful craft user drafted in...     TV         Sunrise  \n",
       "4  It is the dark century and the people are suff...     TV  Toei Animation  "
      ]
     },
     "execution_count": 11,
     "metadata": {},
     "output_type": "execute_result"
    }
   ],
   "source": [
    "anime_df.head()"
   ]
  },
  {
   "cell_type": "markdown",
   "metadata": {},
   "source": [
    "## Preprocessing of Data starts "
   ]
  },
  {
   "cell_type": "code",
   "execution_count": 12,
   "metadata": {},
   "outputs": [
    {
     "data": {
      "text/plain": [
       "anime_id        0\n",
       "Name            0\n",
       "English name    0\n",
       "Genres          0\n",
       "Synopsis        0\n",
       "Type            0\n",
       "Studios         0\n",
       "dtype: int64"
      ]
     },
     "execution_count": 12,
     "metadata": {},
     "output_type": "execute_result"
    }
   ],
   "source": [
    "anime_df.isnull().sum()"
   ]
  },
  {
   "cell_type": "code",
   "execution_count": 13,
   "metadata": {},
   "outputs": [
    {
     "data": {
      "text/plain": [
       "np.int64(0)"
      ]
     },
     "execution_count": 13,
     "metadata": {},
     "output_type": "execute_result"
    }
   ],
   "source": [
    "anime_df.duplicated().sum()"
   ]
  },
  {
   "cell_type": "code",
   "execution_count": 14,
   "metadata": {},
   "outputs": [
    {
     "data": {
      "text/plain": [
       "dtype('O')"
      ]
     },
     "execution_count": 14,
     "metadata": {},
     "output_type": "execute_result"
    }
   ],
   "source": [
    "anime_df['Genres'].dtype"
   ]
  },
  {
   "cell_type": "code",
   "execution_count": 15,
   "metadata": {},
   "outputs": [
    {
     "name": "stdout",
     "output_type": "stream",
     "text": [
      "<class 'str'>\n"
     ]
    }
   ],
   "source": [
    "print(type('0'))"
   ]
  },
  {
   "cell_type": "code",
   "execution_count": 16,
   "metadata": {},
   "outputs": [],
   "source": [
    "def convert(obj):\n",
    "    arr=obj.split(\",\")\n",
    "    return arr\n"
   ]
  },
  {
   "cell_type": "code",
   "execution_count": 17,
   "metadata": {},
   "outputs": [
    {
     "data": {
      "text/html": [
       "<div>\n",
       "<style scoped>\n",
       "    .dataframe tbody tr th:only-of-type {\n",
       "        vertical-align: middle;\n",
       "    }\n",
       "\n",
       "    .dataframe tbody tr th {\n",
       "        vertical-align: top;\n",
       "    }\n",
       "\n",
       "    .dataframe thead th {\n",
       "        text-align: right;\n",
       "    }\n",
       "</style>\n",
       "<table border=\"1\" class=\"dataframe\">\n",
       "  <thead>\n",
       "    <tr style=\"text-align: right;\">\n",
       "      <th></th>\n",
       "      <th>anime_id</th>\n",
       "      <th>Name</th>\n",
       "      <th>English name</th>\n",
       "      <th>Genres</th>\n",
       "      <th>Synopsis</th>\n",
       "      <th>Type</th>\n",
       "      <th>Studios</th>\n",
       "    </tr>\n",
       "  </thead>\n",
       "  <tbody>\n",
       "    <tr>\n",
       "      <th>0</th>\n",
       "      <td>1</td>\n",
       "      <td>Cowboy Bebop</td>\n",
       "      <td>Cowboy Bebop</td>\n",
       "      <td>Action, Award Winning, Sci-Fi</td>\n",
       "      <td>Crime is timeless. By the year 2071, humanity ...</td>\n",
       "      <td>TV</td>\n",
       "      <td>Sunrise</td>\n",
       "    </tr>\n",
       "    <tr>\n",
       "      <th>1</th>\n",
       "      <td>5</td>\n",
       "      <td>Cowboy Bebop: Tengoku no Tobira</td>\n",
       "      <td>Cowboy Bebop: The Movie</td>\n",
       "      <td>Action, Sci-Fi</td>\n",
       "      <td>Another day, another bounty—such is the life o...</td>\n",
       "      <td>Movie</td>\n",
       "      <td>Bones</td>\n",
       "    </tr>\n",
       "    <tr>\n",
       "      <th>2</th>\n",
       "      <td>6</td>\n",
       "      <td>Trigun</td>\n",
       "      <td>Trigun</td>\n",
       "      <td>Action, Adventure, Sci-Fi</td>\n",
       "      <td>Vash the Stampede is the man with a $$60,000,0...</td>\n",
       "      <td>TV</td>\n",
       "      <td>Madhouse</td>\n",
       "    </tr>\n",
       "    <tr>\n",
       "      <th>3</th>\n",
       "      <td>7</td>\n",
       "      <td>Witch Hunter Robin</td>\n",
       "      <td>Witch Hunter Robin</td>\n",
       "      <td>Action, Drama, Mystery, Supernatural</td>\n",
       "      <td>Robin Sena is a powerful craft user drafted in...</td>\n",
       "      <td>TV</td>\n",
       "      <td>Sunrise</td>\n",
       "    </tr>\n",
       "    <tr>\n",
       "      <th>4</th>\n",
       "      <td>8</td>\n",
       "      <td>Bouken Ou Beet</td>\n",
       "      <td>Beet the Vandel Buster</td>\n",
       "      <td>Adventure, Fantasy, Supernatural</td>\n",
       "      <td>It is the dark century and the people are suff...</td>\n",
       "      <td>TV</td>\n",
       "      <td>Toei Animation</td>\n",
       "    </tr>\n",
       "  </tbody>\n",
       "</table>\n",
       "</div>"
      ],
      "text/plain": [
       "   anime_id                             Name             English name  \\\n",
       "0         1                     Cowboy Bebop             Cowboy Bebop   \n",
       "1         5  Cowboy Bebop: Tengoku no Tobira  Cowboy Bebop: The Movie   \n",
       "2         6                           Trigun                   Trigun   \n",
       "3         7               Witch Hunter Robin       Witch Hunter Robin   \n",
       "4         8                   Bouken Ou Beet   Beet the Vandel Buster   \n",
       "\n",
       "                                 Genres  \\\n",
       "0         Action, Award Winning, Sci-Fi   \n",
       "1                        Action, Sci-Fi   \n",
       "2             Action, Adventure, Sci-Fi   \n",
       "3  Action, Drama, Mystery, Supernatural   \n",
       "4      Adventure, Fantasy, Supernatural   \n",
       "\n",
       "                                            Synopsis   Type         Studios  \n",
       "0  Crime is timeless. By the year 2071, humanity ...     TV         Sunrise  \n",
       "1  Another day, another bounty—such is the life o...  Movie           Bones  \n",
       "2  Vash the Stampede is the man with a $$60,000,0...     TV        Madhouse  \n",
       "3  Robin Sena is a powerful craft user drafted in...     TV         Sunrise  \n",
       "4  It is the dark century and the people are suff...     TV  Toei Animation  "
      ]
     },
     "execution_count": 17,
     "metadata": {},
     "output_type": "execute_result"
    }
   ],
   "source": [
    "anime_df.head()"
   ]
  },
  {
   "cell_type": "code",
   "execution_count": 18,
   "metadata": {},
   "outputs": [],
   "source": [
    "anime_df['Genres']=anime_df['Genres'].apply(convert)"
   ]
  },
  {
   "cell_type": "code",
   "execution_count": 19,
   "metadata": {},
   "outputs": [
    {
     "data": {
      "text/html": [
       "<div>\n",
       "<style scoped>\n",
       "    .dataframe tbody tr th:only-of-type {\n",
       "        vertical-align: middle;\n",
       "    }\n",
       "\n",
       "    .dataframe tbody tr th {\n",
       "        vertical-align: top;\n",
       "    }\n",
       "\n",
       "    .dataframe thead th {\n",
       "        text-align: right;\n",
       "    }\n",
       "</style>\n",
       "<table border=\"1\" class=\"dataframe\">\n",
       "  <thead>\n",
       "    <tr style=\"text-align: right;\">\n",
       "      <th></th>\n",
       "      <th>anime_id</th>\n",
       "      <th>Name</th>\n",
       "      <th>English name</th>\n",
       "      <th>Genres</th>\n",
       "      <th>Synopsis</th>\n",
       "      <th>Type</th>\n",
       "      <th>Studios</th>\n",
       "    </tr>\n",
       "  </thead>\n",
       "  <tbody>\n",
       "    <tr>\n",
       "      <th>0</th>\n",
       "      <td>1</td>\n",
       "      <td>Cowboy Bebop</td>\n",
       "      <td>Cowboy Bebop</td>\n",
       "      <td>[Action,  Award Winning,  Sci-Fi]</td>\n",
       "      <td>Crime is timeless. By the year 2071, humanity ...</td>\n",
       "      <td>TV</td>\n",
       "      <td>Sunrise</td>\n",
       "    </tr>\n",
       "    <tr>\n",
       "      <th>1</th>\n",
       "      <td>5</td>\n",
       "      <td>Cowboy Bebop: Tengoku no Tobira</td>\n",
       "      <td>Cowboy Bebop: The Movie</td>\n",
       "      <td>[Action,  Sci-Fi]</td>\n",
       "      <td>Another day, another bounty—such is the life o...</td>\n",
       "      <td>Movie</td>\n",
       "      <td>Bones</td>\n",
       "    </tr>\n",
       "    <tr>\n",
       "      <th>2</th>\n",
       "      <td>6</td>\n",
       "      <td>Trigun</td>\n",
       "      <td>Trigun</td>\n",
       "      <td>[Action,  Adventure,  Sci-Fi]</td>\n",
       "      <td>Vash the Stampede is the man with a $$60,000,0...</td>\n",
       "      <td>TV</td>\n",
       "      <td>Madhouse</td>\n",
       "    </tr>\n",
       "    <tr>\n",
       "      <th>3</th>\n",
       "      <td>7</td>\n",
       "      <td>Witch Hunter Robin</td>\n",
       "      <td>Witch Hunter Robin</td>\n",
       "      <td>[Action,  Drama,  Mystery,  Supernatural]</td>\n",
       "      <td>Robin Sena is a powerful craft user drafted in...</td>\n",
       "      <td>TV</td>\n",
       "      <td>Sunrise</td>\n",
       "    </tr>\n",
       "    <tr>\n",
       "      <th>4</th>\n",
       "      <td>8</td>\n",
       "      <td>Bouken Ou Beet</td>\n",
       "      <td>Beet the Vandel Buster</td>\n",
       "      <td>[Adventure,  Fantasy,  Supernatural]</td>\n",
       "      <td>It is the dark century and the people are suff...</td>\n",
       "      <td>TV</td>\n",
       "      <td>Toei Animation</td>\n",
       "    </tr>\n",
       "  </tbody>\n",
       "</table>\n",
       "</div>"
      ],
      "text/plain": [
       "   anime_id                             Name             English name  \\\n",
       "0         1                     Cowboy Bebop             Cowboy Bebop   \n",
       "1         5  Cowboy Bebop: Tengoku no Tobira  Cowboy Bebop: The Movie   \n",
       "2         6                           Trigun                   Trigun   \n",
       "3         7               Witch Hunter Robin       Witch Hunter Robin   \n",
       "4         8                   Bouken Ou Beet   Beet the Vandel Buster   \n",
       "\n",
       "                                      Genres  \\\n",
       "0          [Action,  Award Winning,  Sci-Fi]   \n",
       "1                          [Action,  Sci-Fi]   \n",
       "2              [Action,  Adventure,  Sci-Fi]   \n",
       "3  [Action,  Drama,  Mystery,  Supernatural]   \n",
       "4       [Adventure,  Fantasy,  Supernatural]   \n",
       "\n",
       "                                            Synopsis   Type         Studios  \n",
       "0  Crime is timeless. By the year 2071, humanity ...     TV         Sunrise  \n",
       "1  Another day, another bounty—such is the life o...  Movie           Bones  \n",
       "2  Vash the Stampede is the man with a $$60,000,0...     TV        Madhouse  \n",
       "3  Robin Sena is a powerful craft user drafted in...     TV         Sunrise  \n",
       "4  It is the dark century and the people are suff...     TV  Toei Animation  "
      ]
     },
     "execution_count": 19,
     "metadata": {},
     "output_type": "execute_result"
    }
   ],
   "source": [
    "anime_df.head()"
   ]
  },
  {
   "cell_type": "code",
   "execution_count": 20,
   "metadata": {},
   "outputs": [],
   "source": [
    "anime_df['Synopsis']=anime_df['Synopsis'].apply(lambda x:x.split())"
   ]
  },
  {
   "cell_type": "code",
   "execution_count": 21,
   "metadata": {},
   "outputs": [],
   "source": [
    "def convert2(obj):\n",
    "    arr=[]\n",
    "    arr=obj.split()\n",
    "    return arr"
   ]
  },
  {
   "cell_type": "code",
   "execution_count": 22,
   "metadata": {},
   "outputs": [
    {
     "data": {
      "text/plain": [
       "dtype('O')"
      ]
     },
     "execution_count": 22,
     "metadata": {},
     "output_type": "execute_result"
    }
   ],
   "source": [
    "anime_df['Studios'].dtype"
   ]
  },
  {
   "cell_type": "code",
   "execution_count": 23,
   "metadata": {},
   "outputs": [
    {
     "data": {
      "text/plain": [
       "dtype('O')"
      ]
     },
     "execution_count": 23,
     "metadata": {},
     "output_type": "execute_result"
    }
   ],
   "source": [
    "anime_df['Type'].dtype"
   ]
  },
  {
   "cell_type": "code",
   "execution_count": 24,
   "metadata": {},
   "outputs": [],
   "source": [
    "anime_df['Studios']=anime_df['Studios'].apply(convert2)\n",
    "anime_df['Type']=anime_df['Type'].apply(convert2)"
   ]
  },
  {
   "cell_type": "code",
   "execution_count": 25,
   "metadata": {},
   "outputs": [
    {
     "data": {
      "text/html": [
       "<div>\n",
       "<style scoped>\n",
       "    .dataframe tbody tr th:only-of-type {\n",
       "        vertical-align: middle;\n",
       "    }\n",
       "\n",
       "    .dataframe tbody tr th {\n",
       "        vertical-align: top;\n",
       "    }\n",
       "\n",
       "    .dataframe thead th {\n",
       "        text-align: right;\n",
       "    }\n",
       "</style>\n",
       "<table border=\"1\" class=\"dataframe\">\n",
       "  <thead>\n",
       "    <tr style=\"text-align: right;\">\n",
       "      <th></th>\n",
       "      <th>anime_id</th>\n",
       "      <th>Name</th>\n",
       "      <th>English name</th>\n",
       "      <th>Genres</th>\n",
       "      <th>Synopsis</th>\n",
       "      <th>Type</th>\n",
       "      <th>Studios</th>\n",
       "    </tr>\n",
       "  </thead>\n",
       "  <tbody>\n",
       "    <tr>\n",
       "      <th>0</th>\n",
       "      <td>1</td>\n",
       "      <td>Cowboy Bebop</td>\n",
       "      <td>Cowboy Bebop</td>\n",
       "      <td>[Action,  Award Winning,  Sci-Fi]</td>\n",
       "      <td>[Crime, is, timeless., By, the, year, 2071,, h...</td>\n",
       "      <td>[TV]</td>\n",
       "      <td>[Sunrise]</td>\n",
       "    </tr>\n",
       "    <tr>\n",
       "      <th>1</th>\n",
       "      <td>5</td>\n",
       "      <td>Cowboy Bebop: Tengoku no Tobira</td>\n",
       "      <td>Cowboy Bebop: The Movie</td>\n",
       "      <td>[Action,  Sci-Fi]</td>\n",
       "      <td>[Another, day,, another, bounty—such, is, the,...</td>\n",
       "      <td>[Movie]</td>\n",
       "      <td>[Bones]</td>\n",
       "    </tr>\n",
       "    <tr>\n",
       "      <th>2</th>\n",
       "      <td>6</td>\n",
       "      <td>Trigun</td>\n",
       "      <td>Trigun</td>\n",
       "      <td>[Action,  Adventure,  Sci-Fi]</td>\n",
       "      <td>[Vash, the, Stampede, is, the, man, with, a, $...</td>\n",
       "      <td>[TV]</td>\n",
       "      <td>[Madhouse]</td>\n",
       "    </tr>\n",
       "    <tr>\n",
       "      <th>3</th>\n",
       "      <td>7</td>\n",
       "      <td>Witch Hunter Robin</td>\n",
       "      <td>Witch Hunter Robin</td>\n",
       "      <td>[Action,  Drama,  Mystery,  Supernatural]</td>\n",
       "      <td>[Robin, Sena, is, a, powerful, craft, user, dr...</td>\n",
       "      <td>[TV]</td>\n",
       "      <td>[Sunrise]</td>\n",
       "    </tr>\n",
       "    <tr>\n",
       "      <th>4</th>\n",
       "      <td>8</td>\n",
       "      <td>Bouken Ou Beet</td>\n",
       "      <td>Beet the Vandel Buster</td>\n",
       "      <td>[Adventure,  Fantasy,  Supernatural]</td>\n",
       "      <td>[It, is, the, dark, century, and, the, people,...</td>\n",
       "      <td>[TV]</td>\n",
       "      <td>[Toei, Animation]</td>\n",
       "    </tr>\n",
       "    <tr>\n",
       "      <th>5</th>\n",
       "      <td>15</td>\n",
       "      <td>Eyeshield 21</td>\n",
       "      <td>UNKNOWN</td>\n",
       "      <td>[Sports]</td>\n",
       "      <td>[Shy,, reserved,, and, small-statured,, Deimon...</td>\n",
       "      <td>[TV]</td>\n",
       "      <td>[Gallop]</td>\n",
       "    </tr>\n",
       "    <tr>\n",
       "      <th>6</th>\n",
       "      <td>16</td>\n",
       "      <td>Hachimitsu to Clover</td>\n",
       "      <td>Honey and Clover</td>\n",
       "      <td>[Comedy,  Drama,  Romance]</td>\n",
       "      <td>[Yuuta, Takemoto,, a, sophomore, at, an, arts,...</td>\n",
       "      <td>[TV]</td>\n",
       "      <td>[J.C.Staff]</td>\n",
       "    </tr>\n",
       "    <tr>\n",
       "      <th>7</th>\n",
       "      <td>17</td>\n",
       "      <td>Hungry Heart: Wild Striker</td>\n",
       "      <td>UNKNOWN</td>\n",
       "      <td>[Comedy,  Slice of Life,  Sports]</td>\n",
       "      <td>[As, the, younger, brother, of, Japanese, socc...</td>\n",
       "      <td>[TV]</td>\n",
       "      <td>[Nippon, Animation]</td>\n",
       "    </tr>\n",
       "    <tr>\n",
       "      <th>8</th>\n",
       "      <td>18</td>\n",
       "      <td>Initial D Fourth Stage</td>\n",
       "      <td>UNKNOWN</td>\n",
       "      <td>[Action,  Drama]</td>\n",
       "      <td>[Takumi, Fujiwara, finally, joins, Ryousuke, a...</td>\n",
       "      <td>[TV]</td>\n",
       "      <td>[A.C.G.T.]</td>\n",
       "    </tr>\n",
       "    <tr>\n",
       "      <th>9</th>\n",
       "      <td>19</td>\n",
       "      <td>Monster</td>\n",
       "      <td>Monster</td>\n",
       "      <td>[Drama,  Mystery,  Suspense]</td>\n",
       "      <td>[Dr., Kenzou, Tenma,, an, elite, neurosurgeon,...</td>\n",
       "      <td>[TV]</td>\n",
       "      <td>[Madhouse]</td>\n",
       "    </tr>\n",
       "  </tbody>\n",
       "</table>\n",
       "</div>"
      ],
      "text/plain": [
       "   anime_id                             Name             English name  \\\n",
       "0         1                     Cowboy Bebop             Cowboy Bebop   \n",
       "1         5  Cowboy Bebop: Tengoku no Tobira  Cowboy Bebop: The Movie   \n",
       "2         6                           Trigun                   Trigun   \n",
       "3         7               Witch Hunter Robin       Witch Hunter Robin   \n",
       "4         8                   Bouken Ou Beet   Beet the Vandel Buster   \n",
       "5        15                     Eyeshield 21                  UNKNOWN   \n",
       "6        16             Hachimitsu to Clover         Honey and Clover   \n",
       "7        17       Hungry Heart: Wild Striker                  UNKNOWN   \n",
       "8        18           Initial D Fourth Stage                  UNKNOWN   \n",
       "9        19                          Monster                  Monster   \n",
       "\n",
       "                                      Genres  \\\n",
       "0          [Action,  Award Winning,  Sci-Fi]   \n",
       "1                          [Action,  Sci-Fi]   \n",
       "2              [Action,  Adventure,  Sci-Fi]   \n",
       "3  [Action,  Drama,  Mystery,  Supernatural]   \n",
       "4       [Adventure,  Fantasy,  Supernatural]   \n",
       "5                                   [Sports]   \n",
       "6                 [Comedy,  Drama,  Romance]   \n",
       "7          [Comedy,  Slice of Life,  Sports]   \n",
       "8                           [Action,  Drama]   \n",
       "9               [Drama,  Mystery,  Suspense]   \n",
       "\n",
       "                                            Synopsis     Type  \\\n",
       "0  [Crime, is, timeless., By, the, year, 2071,, h...     [TV]   \n",
       "1  [Another, day,, another, bounty—such, is, the,...  [Movie]   \n",
       "2  [Vash, the, Stampede, is, the, man, with, a, $...     [TV]   \n",
       "3  [Robin, Sena, is, a, powerful, craft, user, dr...     [TV]   \n",
       "4  [It, is, the, dark, century, and, the, people,...     [TV]   \n",
       "5  [Shy,, reserved,, and, small-statured,, Deimon...     [TV]   \n",
       "6  [Yuuta, Takemoto,, a, sophomore, at, an, arts,...     [TV]   \n",
       "7  [As, the, younger, brother, of, Japanese, socc...     [TV]   \n",
       "8  [Takumi, Fujiwara, finally, joins, Ryousuke, a...     [TV]   \n",
       "9  [Dr., Kenzou, Tenma,, an, elite, neurosurgeon,...     [TV]   \n",
       "\n",
       "               Studios  \n",
       "0            [Sunrise]  \n",
       "1              [Bones]  \n",
       "2           [Madhouse]  \n",
       "3            [Sunrise]  \n",
       "4    [Toei, Animation]  \n",
       "5             [Gallop]  \n",
       "6          [J.C.Staff]  \n",
       "7  [Nippon, Animation]  \n",
       "8           [A.C.G.T.]  \n",
       "9           [Madhouse]  "
      ]
     },
     "execution_count": 25,
     "metadata": {},
     "output_type": "execute_result"
    }
   ],
   "source": [
    "anime_df.head(10)"
   ]
  },
  {
   "cell_type": "markdown",
   "metadata": {},
   "source": [
    "Now to make our algorithm runs more precise we will remove all spaces among different columns :\n",
    "Example : Slice of life -> sliceoflife"
   ]
  },
  {
   "cell_type": "code",
   "execution_count": 26,
   "metadata": {},
   "outputs": [],
   "source": [
    "anime_df['Synopsis']=anime_df['Synopsis'].apply(lambda x:[i.replace(\" \",\"\") for i in x])\n",
    "anime_df['Genres']=anime_df['Genres'].apply(lambda x:[i.replace(\" \",\"\") for i in x])\n",
    "anime_df['Type']=anime_df['Type'].apply(lambda x:[i.replace(\" \",\"\") for i in x])\n",
    "anime_df['Studios']=anime_df['Studios'].apply(lambda x:[i.replace(\" \",\"\") for i in x])"
   ]
  },
  {
   "cell_type": "code",
   "execution_count": 27,
   "metadata": {},
   "outputs": [
    {
     "data": {
      "text/html": [
       "<div>\n",
       "<style scoped>\n",
       "    .dataframe tbody tr th:only-of-type {\n",
       "        vertical-align: middle;\n",
       "    }\n",
       "\n",
       "    .dataframe tbody tr th {\n",
       "        vertical-align: top;\n",
       "    }\n",
       "\n",
       "    .dataframe thead th {\n",
       "        text-align: right;\n",
       "    }\n",
       "</style>\n",
       "<table border=\"1\" class=\"dataframe\">\n",
       "  <thead>\n",
       "    <tr style=\"text-align: right;\">\n",
       "      <th></th>\n",
       "      <th>anime_id</th>\n",
       "      <th>Name</th>\n",
       "      <th>English name</th>\n",
       "      <th>Genres</th>\n",
       "      <th>Synopsis</th>\n",
       "      <th>Type</th>\n",
       "      <th>Studios</th>\n",
       "    </tr>\n",
       "  </thead>\n",
       "  <tbody>\n",
       "    <tr>\n",
       "      <th>0</th>\n",
       "      <td>1</td>\n",
       "      <td>Cowboy Bebop</td>\n",
       "      <td>Cowboy Bebop</td>\n",
       "      <td>[Action, AwardWinning, Sci-Fi]</td>\n",
       "      <td>[Crime, is, timeless., By, the, year, 2071,, h...</td>\n",
       "      <td>[TV]</td>\n",
       "      <td>[Sunrise]</td>\n",
       "    </tr>\n",
       "    <tr>\n",
       "      <th>1</th>\n",
       "      <td>5</td>\n",
       "      <td>Cowboy Bebop: Tengoku no Tobira</td>\n",
       "      <td>Cowboy Bebop: The Movie</td>\n",
       "      <td>[Action, Sci-Fi]</td>\n",
       "      <td>[Another, day,, another, bounty—such, is, the,...</td>\n",
       "      <td>[Movie]</td>\n",
       "      <td>[Bones]</td>\n",
       "    </tr>\n",
       "    <tr>\n",
       "      <th>2</th>\n",
       "      <td>6</td>\n",
       "      <td>Trigun</td>\n",
       "      <td>Trigun</td>\n",
       "      <td>[Action, Adventure, Sci-Fi]</td>\n",
       "      <td>[Vash, the, Stampede, is, the, man, with, a, $...</td>\n",
       "      <td>[TV]</td>\n",
       "      <td>[Madhouse]</td>\n",
       "    </tr>\n",
       "    <tr>\n",
       "      <th>3</th>\n",
       "      <td>7</td>\n",
       "      <td>Witch Hunter Robin</td>\n",
       "      <td>Witch Hunter Robin</td>\n",
       "      <td>[Action, Drama, Mystery, Supernatural]</td>\n",
       "      <td>[Robin, Sena, is, a, powerful, craft, user, dr...</td>\n",
       "      <td>[TV]</td>\n",
       "      <td>[Sunrise]</td>\n",
       "    </tr>\n",
       "    <tr>\n",
       "      <th>4</th>\n",
       "      <td>8</td>\n",
       "      <td>Bouken Ou Beet</td>\n",
       "      <td>Beet the Vandel Buster</td>\n",
       "      <td>[Adventure, Fantasy, Supernatural]</td>\n",
       "      <td>[It, is, the, dark, century, and, the, people,...</td>\n",
       "      <td>[TV]</td>\n",
       "      <td>[Toei, Animation]</td>\n",
       "    </tr>\n",
       "  </tbody>\n",
       "</table>\n",
       "</div>"
      ],
      "text/plain": [
       "   anime_id                             Name             English name  \\\n",
       "0         1                     Cowboy Bebop             Cowboy Bebop   \n",
       "1         5  Cowboy Bebop: Tengoku no Tobira  Cowboy Bebop: The Movie   \n",
       "2         6                           Trigun                   Trigun   \n",
       "3         7               Witch Hunter Robin       Witch Hunter Robin   \n",
       "4         8                   Bouken Ou Beet   Beet the Vandel Buster   \n",
       "\n",
       "                                   Genres  \\\n",
       "0          [Action, AwardWinning, Sci-Fi]   \n",
       "1                        [Action, Sci-Fi]   \n",
       "2             [Action, Adventure, Sci-Fi]   \n",
       "3  [Action, Drama, Mystery, Supernatural]   \n",
       "4      [Adventure, Fantasy, Supernatural]   \n",
       "\n",
       "                                            Synopsis     Type  \\\n",
       "0  [Crime, is, timeless., By, the, year, 2071,, h...     [TV]   \n",
       "1  [Another, day,, another, bounty—such, is, the,...  [Movie]   \n",
       "2  [Vash, the, Stampede, is, the, man, with, a, $...     [TV]   \n",
       "3  [Robin, Sena, is, a, powerful, craft, user, dr...     [TV]   \n",
       "4  [It, is, the, dark, century, and, the, people,...     [TV]   \n",
       "\n",
       "             Studios  \n",
       "0          [Sunrise]  \n",
       "1            [Bones]  \n",
       "2         [Madhouse]  \n",
       "3          [Sunrise]  \n",
       "4  [Toei, Animation]  "
      ]
     },
     "execution_count": 27,
     "metadata": {},
     "output_type": "execute_result"
    }
   ],
   "source": [
    "anime_df.head()"
   ]
  },
  {
   "cell_type": "code",
   "execution_count": 28,
   "metadata": {},
   "outputs": [],
   "source": [
    "anime_df['Tags']=anime_df['Genres']+anime_df['Studios']+anime_df['Synopsis']+anime_df['Type']"
   ]
  },
  {
   "cell_type": "code",
   "execution_count": 29,
   "metadata": {},
   "outputs": [
    {
     "data": {
      "text/html": [
       "<div>\n",
       "<style scoped>\n",
       "    .dataframe tbody tr th:only-of-type {\n",
       "        vertical-align: middle;\n",
       "    }\n",
       "\n",
       "    .dataframe tbody tr th {\n",
       "        vertical-align: top;\n",
       "    }\n",
       "\n",
       "    .dataframe thead th {\n",
       "        text-align: right;\n",
       "    }\n",
       "</style>\n",
       "<table border=\"1\" class=\"dataframe\">\n",
       "  <thead>\n",
       "    <tr style=\"text-align: right;\">\n",
       "      <th></th>\n",
       "      <th>anime_id</th>\n",
       "      <th>Name</th>\n",
       "      <th>English name</th>\n",
       "      <th>Genres</th>\n",
       "      <th>Synopsis</th>\n",
       "      <th>Type</th>\n",
       "      <th>Studios</th>\n",
       "      <th>Tags</th>\n",
       "    </tr>\n",
       "  </thead>\n",
       "  <tbody>\n",
       "    <tr>\n",
       "      <th>0</th>\n",
       "      <td>1</td>\n",
       "      <td>Cowboy Bebop</td>\n",
       "      <td>Cowboy Bebop</td>\n",
       "      <td>[Action, AwardWinning, Sci-Fi]</td>\n",
       "      <td>[Crime, is, timeless., By, the, year, 2071,, h...</td>\n",
       "      <td>[TV]</td>\n",
       "      <td>[Sunrise]</td>\n",
       "      <td>[Action, AwardWinning, Sci-Fi, Sunrise, Crime,...</td>\n",
       "    </tr>\n",
       "    <tr>\n",
       "      <th>1</th>\n",
       "      <td>5</td>\n",
       "      <td>Cowboy Bebop: Tengoku no Tobira</td>\n",
       "      <td>Cowboy Bebop: The Movie</td>\n",
       "      <td>[Action, Sci-Fi]</td>\n",
       "      <td>[Another, day,, another, bounty—such, is, the,...</td>\n",
       "      <td>[Movie]</td>\n",
       "      <td>[Bones]</td>\n",
       "      <td>[Action, Sci-Fi, Bones, Another, day,, another...</td>\n",
       "    </tr>\n",
       "    <tr>\n",
       "      <th>2</th>\n",
       "      <td>6</td>\n",
       "      <td>Trigun</td>\n",
       "      <td>Trigun</td>\n",
       "      <td>[Action, Adventure, Sci-Fi]</td>\n",
       "      <td>[Vash, the, Stampede, is, the, man, with, a, $...</td>\n",
       "      <td>[TV]</td>\n",
       "      <td>[Madhouse]</td>\n",
       "      <td>[Action, Adventure, Sci-Fi, Madhouse, Vash, th...</td>\n",
       "    </tr>\n",
       "    <tr>\n",
       "      <th>3</th>\n",
       "      <td>7</td>\n",
       "      <td>Witch Hunter Robin</td>\n",
       "      <td>Witch Hunter Robin</td>\n",
       "      <td>[Action, Drama, Mystery, Supernatural]</td>\n",
       "      <td>[Robin, Sena, is, a, powerful, craft, user, dr...</td>\n",
       "      <td>[TV]</td>\n",
       "      <td>[Sunrise]</td>\n",
       "      <td>[Action, Drama, Mystery, Supernatural, Sunrise...</td>\n",
       "    </tr>\n",
       "    <tr>\n",
       "      <th>4</th>\n",
       "      <td>8</td>\n",
       "      <td>Bouken Ou Beet</td>\n",
       "      <td>Beet the Vandel Buster</td>\n",
       "      <td>[Adventure, Fantasy, Supernatural]</td>\n",
       "      <td>[It, is, the, dark, century, and, the, people,...</td>\n",
       "      <td>[TV]</td>\n",
       "      <td>[Toei, Animation]</td>\n",
       "      <td>[Adventure, Fantasy, Supernatural, Toei, Anima...</td>\n",
       "    </tr>\n",
       "  </tbody>\n",
       "</table>\n",
       "</div>"
      ],
      "text/plain": [
       "   anime_id                             Name             English name  \\\n",
       "0         1                     Cowboy Bebop             Cowboy Bebop   \n",
       "1         5  Cowboy Bebop: Tengoku no Tobira  Cowboy Bebop: The Movie   \n",
       "2         6                           Trigun                   Trigun   \n",
       "3         7               Witch Hunter Robin       Witch Hunter Robin   \n",
       "4         8                   Bouken Ou Beet   Beet the Vandel Buster   \n",
       "\n",
       "                                   Genres  \\\n",
       "0          [Action, AwardWinning, Sci-Fi]   \n",
       "1                        [Action, Sci-Fi]   \n",
       "2             [Action, Adventure, Sci-Fi]   \n",
       "3  [Action, Drama, Mystery, Supernatural]   \n",
       "4      [Adventure, Fantasy, Supernatural]   \n",
       "\n",
       "                                            Synopsis     Type  \\\n",
       "0  [Crime, is, timeless., By, the, year, 2071,, h...     [TV]   \n",
       "1  [Another, day,, another, bounty—such, is, the,...  [Movie]   \n",
       "2  [Vash, the, Stampede, is, the, man, with, a, $...     [TV]   \n",
       "3  [Robin, Sena, is, a, powerful, craft, user, dr...     [TV]   \n",
       "4  [It, is, the, dark, century, and, the, people,...     [TV]   \n",
       "\n",
       "             Studios                                               Tags  \n",
       "0          [Sunrise]  [Action, AwardWinning, Sci-Fi, Sunrise, Crime,...  \n",
       "1            [Bones]  [Action, Sci-Fi, Bones, Another, day,, another...  \n",
       "2         [Madhouse]  [Action, Adventure, Sci-Fi, Madhouse, Vash, th...  \n",
       "3          [Sunrise]  [Action, Drama, Mystery, Supernatural, Sunrise...  \n",
       "4  [Toei, Animation]  [Adventure, Fantasy, Supernatural, Toei, Anima...  "
      ]
     },
     "execution_count": 29,
     "metadata": {},
     "output_type": "execute_result"
    }
   ],
   "source": [
    "anime_df.head()"
   ]
  },
  {
   "cell_type": "code",
   "execution_count": 30,
   "metadata": {},
   "outputs": [],
   "source": [
    "anime_df_main=anime_df[['anime_id','Name','English name','Tags']]"
   ]
  },
  {
   "cell_type": "code",
   "execution_count": 31,
   "metadata": {},
   "outputs": [
    {
     "data": {
      "text/html": [
       "<div>\n",
       "<style scoped>\n",
       "    .dataframe tbody tr th:only-of-type {\n",
       "        vertical-align: middle;\n",
       "    }\n",
       "\n",
       "    .dataframe tbody tr th {\n",
       "        vertical-align: top;\n",
       "    }\n",
       "\n",
       "    .dataframe thead th {\n",
       "        text-align: right;\n",
       "    }\n",
       "</style>\n",
       "<table border=\"1\" class=\"dataframe\">\n",
       "  <thead>\n",
       "    <tr style=\"text-align: right;\">\n",
       "      <th></th>\n",
       "      <th>anime_id</th>\n",
       "      <th>Name</th>\n",
       "      <th>English name</th>\n",
       "      <th>Tags</th>\n",
       "    </tr>\n",
       "  </thead>\n",
       "  <tbody>\n",
       "    <tr>\n",
       "      <th>0</th>\n",
       "      <td>1</td>\n",
       "      <td>Cowboy Bebop</td>\n",
       "      <td>Cowboy Bebop</td>\n",
       "      <td>[Action, AwardWinning, Sci-Fi, Sunrise, Crime,...</td>\n",
       "    </tr>\n",
       "    <tr>\n",
       "      <th>1</th>\n",
       "      <td>5</td>\n",
       "      <td>Cowboy Bebop: Tengoku no Tobira</td>\n",
       "      <td>Cowboy Bebop: The Movie</td>\n",
       "      <td>[Action, Sci-Fi, Bones, Another, day,, another...</td>\n",
       "    </tr>\n",
       "    <tr>\n",
       "      <th>2</th>\n",
       "      <td>6</td>\n",
       "      <td>Trigun</td>\n",
       "      <td>Trigun</td>\n",
       "      <td>[Action, Adventure, Sci-Fi, Madhouse, Vash, th...</td>\n",
       "    </tr>\n",
       "    <tr>\n",
       "      <th>3</th>\n",
       "      <td>7</td>\n",
       "      <td>Witch Hunter Robin</td>\n",
       "      <td>Witch Hunter Robin</td>\n",
       "      <td>[Action, Drama, Mystery, Supernatural, Sunrise...</td>\n",
       "    </tr>\n",
       "    <tr>\n",
       "      <th>4</th>\n",
       "      <td>8</td>\n",
       "      <td>Bouken Ou Beet</td>\n",
       "      <td>Beet the Vandel Buster</td>\n",
       "      <td>[Adventure, Fantasy, Supernatural, Toei, Anima...</td>\n",
       "    </tr>\n",
       "  </tbody>\n",
       "</table>\n",
       "</div>"
      ],
      "text/plain": [
       "   anime_id                             Name             English name  \\\n",
       "0         1                     Cowboy Bebop             Cowboy Bebop   \n",
       "1         5  Cowboy Bebop: Tengoku no Tobira  Cowboy Bebop: The Movie   \n",
       "2         6                           Trigun                   Trigun   \n",
       "3         7               Witch Hunter Robin       Witch Hunter Robin   \n",
       "4         8                   Bouken Ou Beet   Beet the Vandel Buster   \n",
       "\n",
       "                                                Tags  \n",
       "0  [Action, AwardWinning, Sci-Fi, Sunrise, Crime,...  \n",
       "1  [Action, Sci-Fi, Bones, Another, day,, another...  \n",
       "2  [Action, Adventure, Sci-Fi, Madhouse, Vash, th...  \n",
       "3  [Action, Drama, Mystery, Supernatural, Sunrise...  \n",
       "4  [Adventure, Fantasy, Supernatural, Toei, Anima...  "
      ]
     },
     "execution_count": 31,
     "metadata": {},
     "output_type": "execute_result"
    }
   ],
   "source": [
    "anime_df_main.head()"
   ]
  },
  {
   "cell_type": "code",
   "execution_count": 32,
   "metadata": {},
   "outputs": [
    {
     "name": "stderr",
     "output_type": "stream",
     "text": [
      "C:\\Users\\ASUS\\AppData\\Local\\Temp\\ipykernel_24380\\1492827684.py:1: SettingWithCopyWarning: \n",
      "A value is trying to be set on a copy of a slice from a DataFrame.\n",
      "Try using .loc[row_indexer,col_indexer] = value instead\n",
      "\n",
      "See the caveats in the documentation: https://pandas.pydata.org/pandas-docs/stable/user_guide/indexing.html#returning-a-view-versus-a-copy\n",
      "  anime_df_main['Tags']=anime_df_main['Tags'].apply(lambda x:\" \".join(x))\n"
     ]
    }
   ],
   "source": [
    "anime_df_main['Tags']=anime_df_main['Tags'].apply(lambda x:\" \".join(x))"
   ]
  },
  {
   "cell_type": "code",
   "execution_count": 33,
   "metadata": {},
   "outputs": [
    {
     "data": {
      "text/html": [
       "<div>\n",
       "<style scoped>\n",
       "    .dataframe tbody tr th:only-of-type {\n",
       "        vertical-align: middle;\n",
       "    }\n",
       "\n",
       "    .dataframe tbody tr th {\n",
       "        vertical-align: top;\n",
       "    }\n",
       "\n",
       "    .dataframe thead th {\n",
       "        text-align: right;\n",
       "    }\n",
       "</style>\n",
       "<table border=\"1\" class=\"dataframe\">\n",
       "  <thead>\n",
       "    <tr style=\"text-align: right;\">\n",
       "      <th></th>\n",
       "      <th>anime_id</th>\n",
       "      <th>Name</th>\n",
       "      <th>English name</th>\n",
       "      <th>Tags</th>\n",
       "    </tr>\n",
       "  </thead>\n",
       "  <tbody>\n",
       "    <tr>\n",
       "      <th>0</th>\n",
       "      <td>1</td>\n",
       "      <td>Cowboy Bebop</td>\n",
       "      <td>Cowboy Bebop</td>\n",
       "      <td>Action AwardWinning Sci-Fi Sunrise Crime is ti...</td>\n",
       "    </tr>\n",
       "    <tr>\n",
       "      <th>1</th>\n",
       "      <td>5</td>\n",
       "      <td>Cowboy Bebop: Tengoku no Tobira</td>\n",
       "      <td>Cowboy Bebop: The Movie</td>\n",
       "      <td>Action Sci-Fi Bones Another day, another bount...</td>\n",
       "    </tr>\n",
       "    <tr>\n",
       "      <th>2</th>\n",
       "      <td>6</td>\n",
       "      <td>Trigun</td>\n",
       "      <td>Trigun</td>\n",
       "      <td>Action Adventure Sci-Fi Madhouse Vash the Stam...</td>\n",
       "    </tr>\n",
       "    <tr>\n",
       "      <th>3</th>\n",
       "      <td>7</td>\n",
       "      <td>Witch Hunter Robin</td>\n",
       "      <td>Witch Hunter Robin</td>\n",
       "      <td>Action Drama Mystery Supernatural Sunrise Robi...</td>\n",
       "    </tr>\n",
       "    <tr>\n",
       "      <th>4</th>\n",
       "      <td>8</td>\n",
       "      <td>Bouken Ou Beet</td>\n",
       "      <td>Beet the Vandel Buster</td>\n",
       "      <td>Adventure Fantasy Supernatural Toei Animation ...</td>\n",
       "    </tr>\n",
       "  </tbody>\n",
       "</table>\n",
       "</div>"
      ],
      "text/plain": [
       "   anime_id                             Name             English name  \\\n",
       "0         1                     Cowboy Bebop             Cowboy Bebop   \n",
       "1         5  Cowboy Bebop: Tengoku no Tobira  Cowboy Bebop: The Movie   \n",
       "2         6                           Trigun                   Trigun   \n",
       "3         7               Witch Hunter Robin       Witch Hunter Robin   \n",
       "4         8                   Bouken Ou Beet   Beet the Vandel Buster   \n",
       "\n",
       "                                                Tags  \n",
       "0  Action AwardWinning Sci-Fi Sunrise Crime is ti...  \n",
       "1  Action Sci-Fi Bones Another day, another bount...  \n",
       "2  Action Adventure Sci-Fi Madhouse Vash the Stam...  \n",
       "3  Action Drama Mystery Supernatural Sunrise Robi...  \n",
       "4  Adventure Fantasy Supernatural Toei Animation ...  "
      ]
     },
     "execution_count": 33,
     "metadata": {},
     "output_type": "execute_result"
    }
   ],
   "source": [
    "anime_df_main.head()"
   ]
  },
  {
   "cell_type": "markdown",
   "metadata": {},
   "source": [
    "Converting 'Tags' column in lowercase because its generally recommended"
   ]
  },
  {
   "cell_type": "code",
   "execution_count": 34,
   "metadata": {},
   "outputs": [
    {
     "name": "stderr",
     "output_type": "stream",
     "text": [
      "C:\\Users\\ASUS\\AppData\\Local\\Temp\\ipykernel_24380\\2541995249.py:1: SettingWithCopyWarning: \n",
      "A value is trying to be set on a copy of a slice from a DataFrame.\n",
      "Try using .loc[row_indexer,col_indexer] = value instead\n",
      "\n",
      "See the caveats in the documentation: https://pandas.pydata.org/pandas-docs/stable/user_guide/indexing.html#returning-a-view-versus-a-copy\n",
      "  anime_df_main['Tags']=anime_df_main['Tags'].apply(lambda x:x.lower())\n"
     ]
    }
   ],
   "source": [
    "anime_df_main['Tags']=anime_df_main['Tags'].apply(lambda x:x.lower())"
   ]
  },
  {
   "cell_type": "code",
   "execution_count": 35,
   "metadata": {},
   "outputs": [
    {
     "data": {
      "text/html": [
       "<div>\n",
       "<style scoped>\n",
       "    .dataframe tbody tr th:only-of-type {\n",
       "        vertical-align: middle;\n",
       "    }\n",
       "\n",
       "    .dataframe tbody tr th {\n",
       "        vertical-align: top;\n",
       "    }\n",
       "\n",
       "    .dataframe thead th {\n",
       "        text-align: right;\n",
       "    }\n",
       "</style>\n",
       "<table border=\"1\" class=\"dataframe\">\n",
       "  <thead>\n",
       "    <tr style=\"text-align: right;\">\n",
       "      <th></th>\n",
       "      <th>anime_id</th>\n",
       "      <th>Name</th>\n",
       "      <th>English name</th>\n",
       "      <th>Tags</th>\n",
       "    </tr>\n",
       "  </thead>\n",
       "  <tbody>\n",
       "    <tr>\n",
       "      <th>0</th>\n",
       "      <td>1</td>\n",
       "      <td>Cowboy Bebop</td>\n",
       "      <td>Cowboy Bebop</td>\n",
       "      <td>action awardwinning sci-fi sunrise crime is ti...</td>\n",
       "    </tr>\n",
       "    <tr>\n",
       "      <th>1</th>\n",
       "      <td>5</td>\n",
       "      <td>Cowboy Bebop: Tengoku no Tobira</td>\n",
       "      <td>Cowboy Bebop: The Movie</td>\n",
       "      <td>action sci-fi bones another day, another bount...</td>\n",
       "    </tr>\n",
       "    <tr>\n",
       "      <th>2</th>\n",
       "      <td>6</td>\n",
       "      <td>Trigun</td>\n",
       "      <td>Trigun</td>\n",
       "      <td>action adventure sci-fi madhouse vash the stam...</td>\n",
       "    </tr>\n",
       "    <tr>\n",
       "      <th>3</th>\n",
       "      <td>7</td>\n",
       "      <td>Witch Hunter Robin</td>\n",
       "      <td>Witch Hunter Robin</td>\n",
       "      <td>action drama mystery supernatural sunrise robi...</td>\n",
       "    </tr>\n",
       "    <tr>\n",
       "      <th>4</th>\n",
       "      <td>8</td>\n",
       "      <td>Bouken Ou Beet</td>\n",
       "      <td>Beet the Vandel Buster</td>\n",
       "      <td>adventure fantasy supernatural toei animation ...</td>\n",
       "    </tr>\n",
       "  </tbody>\n",
       "</table>\n",
       "</div>"
      ],
      "text/plain": [
       "   anime_id                             Name             English name  \\\n",
       "0         1                     Cowboy Bebop             Cowboy Bebop   \n",
       "1         5  Cowboy Bebop: Tengoku no Tobira  Cowboy Bebop: The Movie   \n",
       "2         6                           Trigun                   Trigun   \n",
       "3         7               Witch Hunter Robin       Witch Hunter Robin   \n",
       "4         8                   Bouken Ou Beet   Beet the Vandel Buster   \n",
       "\n",
       "                                                Tags  \n",
       "0  action awardwinning sci-fi sunrise crime is ti...  \n",
       "1  action sci-fi bones another day, another bount...  \n",
       "2  action adventure sci-fi madhouse vash the stam...  \n",
       "3  action drama mystery supernatural sunrise robi...  \n",
       "4  adventure fantasy supernatural toei animation ...  "
      ]
     },
     "execution_count": 35,
     "metadata": {},
     "output_type": "execute_result"
    }
   ],
   "source": [
    "anime_df_main.head()"
   ]
  },
  {
   "cell_type": "code",
   "execution_count": 36,
   "metadata": {},
   "outputs": [],
   "source": [
    "import nltk"
   ]
  },
  {
   "cell_type": "markdown",
   "metadata": {},
   "source": [
    "Basically after vectorization we may get unnecesarry duplicate words like love and loved are same but it will show us it as 2 diff. entities"
   ]
  },
  {
   "cell_type": "code",
   "execution_count": 37,
   "metadata": {},
   "outputs": [],
   "source": [
    "from nltk.stem.porter import PorterStemmer\n",
    "ps=PorterStemmer()\n"
   ]
  },
  {
   "cell_type": "code",
   "execution_count": 38,
   "metadata": {},
   "outputs": [],
   "source": [
    "def stem(text):\n",
    "    arr=[]\n",
    "    for i in text.split():\n",
    "        arr.append(ps.stem(i))\n",
    "        \n",
    "    return \" \".join(arr)"
   ]
  },
  {
   "cell_type": "code",
   "execution_count": 39,
   "metadata": {},
   "outputs": [
    {
     "name": "stderr",
     "output_type": "stream",
     "text": [
      "C:\\Users\\ASUS\\AppData\\Local\\Temp\\ipykernel_24380\\2534737363.py:1: SettingWithCopyWarning: \n",
      "A value is trying to be set on a copy of a slice from a DataFrame.\n",
      "Try using .loc[row_indexer,col_indexer] = value instead\n",
      "\n",
      "See the caveats in the documentation: https://pandas.pydata.org/pandas-docs/stable/user_guide/indexing.html#returning-a-view-versus-a-copy\n",
      "  anime_df_main['Tags']=anime_df_main['Tags'].apply(stem)\n"
     ]
    }
   ],
   "source": [
    "anime_df_main['Tags']=anime_df_main['Tags'].apply(stem)"
   ]
  },
  {
   "cell_type": "markdown",
   "metadata": {},
   "source": [
    "Now we will do Vectorization"
   ]
  },
  {
   "cell_type": "code",
   "execution_count": 40,
   "metadata": {},
   "outputs": [],
   "source": [
    "from sklearn.feature_extraction.text import CountVectorizer\n",
    "cv=CountVectorizer(max_features=500,stop_words='english')"
   ]
  },
  {
   "cell_type": "code",
   "execution_count": 41,
   "metadata": {},
   "outputs": [],
   "source": [
    "vectors=cv.fit_transform(anime_df_main['Tags'])"
   ]
  },
  {
   "cell_type": "code",
   "execution_count": 42,
   "metadata": {},
   "outputs": [
    {
     "data": {
      "text/plain": [
       "array(['10', 'abil', 'abl', 'academi', 'academy', 'accept', 'accident',\n",
       "       'act', 'action', 'actual', 'adapt', 'adventur', 'age', 'ago', 'ai',\n",
       "       'aic', 'aim', 'air', 'album', 'alien', 'allow', 'alongsid',\n",
       "       'alway', 'amp', 'ancient', 'ani', 'anidb', 'anim', 'animation',\n",
       "       'anime', 'ann', 'anoth', 'anyth', 'appear', 'arm', 'arriv', 'art',\n",
       "       'ask', 'attack', 'attempt', 'attend', 'avail', 'avantgard', 'away',\n",
       "       'band', 'base', 'battl', 'bear', 'beauti', 'becaus', 'becom',\n",
       "       'befor', 'begin', 'believ', 'best', 'big', 'black', 'blu', 'blue',\n",
       "       'bodi', 'book', 'born', 'box', 'boy', 'break', 'bring', 'brother',\n",
       "       'build', 'bundl', 'came', 'care', 'case', 'cast', 'cat', 'caus',\n",
       "       'center', 'challeng', 'chan', 'chanc', 'chang', 'channel',\n",
       "       'charact', 'child', 'childhood', 'children', 'citi', 'city',\n",
       "       'clan', 'class', 'classmat', 'close', 'club', 'collabor',\n",
       "       'collect', 'come', 'comedi', 'commerci', 'compani', 'complet',\n",
       "       'continu', 'control', 'countri', 'creat', 'creatur', 'daili',\n",
       "       'danger', 'dark', 'daughter', 'day', 'deal', 'death', 'decid',\n",
       "       'deen', 'defeat', 'demon', 'descript', 'desir', 'despit',\n",
       "       'destroy', 'detect', 'determin', 'develop', 'die', 'differ',\n",
       "       'direct', 'discov', 'doe', 'doesn', 'dog', 'dr', 'dragon', 'drama',\n",
       "       'dream', 'dure', 'dvd', 'earth', 'ecchi', 'educ', 'encount', 'end',\n",
       "       'enemi', 'enjoy', 'enter', 'entertain', 'entir', 'episod', 'escap',\n",
       "       'event', 'everi', 'everyon', 'everyth', 'evil', 'exist', 'experi',\n",
       "       'explor', 'eye', 'face', 'fairi', 'fall', 'famili', 'family',\n",
       "       'famou', 'fantasi', 'far', 'fate', 'father', 'fear', 'featur',\n",
       "       'feel', 'fellow', 'femal', 'fi', 'fight', 'film', 'final',\n",
       "       'follow', 'forc', 'forest', 'form', 'free', 'friend', 'friends',\n",
       "       'friendship', 'futur', 'future', 'game', 'gang', 'gener', 'ghost',\n",
       "       'giant', 'girl', 'girls', 'given', 'goal', 'god', 'goe', 'good',\n",
       "       'great', 'group', 'grow', 'ha', 'half', 'hand', 'happen', 'happi',\n",
       "       'hard', 'head', 'heart', 'help', 'hentai', 'hero', 'hi', 'hidden',\n",
       "       'high', 'hold', 'home', 'hope', 'horror', 'hous', 'human', 'idol',\n",
       "       'includ', 'instead', 'investig', 'involv', 'island', 'japan',\n",
       "       'japanes', 'job', 'join', 'journey', 'just', 'kid', 'kill', 'kind',\n",
       "       'king', 'kingdom', 'know', 'known', 'kun', 'land', 'later', 'lead',\n",
       "       'leader', 'learn', 'leav', 'left', 'legendari', 'let', 'life',\n",
       "       'light', 'like', 'line', 'littl', 'live', 'local', 'long', 'look',\n",
       "       'lord', 'lose', 'lost', 'love', 'madhous', 'magic', 'main', 'make',\n",
       "       'man', 'manag', 'manga', 'mani', 'master', 'matter', 'mean',\n",
       "       'meet', 'member', 'memori', 'men', 'middl', 'mind', 'minna',\n",
       "       'mission', 'monster', 'moon', 'mother', 'movi', 'music', 'mysteri',\n",
       "       'nation', 'natur', 'need', 'new', 'news', 'nhk', 'night', 'ninja',\n",
       "       'nippon', 'normal', 'noth', 'offer', 'offic', 'offici', 'old',\n",
       "       'olm', 'ona', 'onc', 'onli', 'open', 'order', 'ordinari', 'organ',\n",
       "       'origin', 'ova', 'parent', 'pass', 'past', 'path', 'peac', 'peopl',\n",
       "       'people', 'perform', 'person', 'pictur', 'pierrot', 'pilot',\n",
       "       'place', 'plan', 'planet', 'play', 'player', 'plot', 'polic',\n",
       "       'popular', 'possess', 'power', 'prepar', 'present', 'princess',\n",
       "       'problem', 'produc', 'product', 'program', 'project', 'promot',\n",
       "       'protect', 'prove', 'quickli', 'race', 'ray', 'reach', 'real',\n",
       "       'realiz', 'recap', 'receiv', 'red', 'relationship', 'releas',\n",
       "       'remain', 'rescu', 'rest', 'result', 'return', 'reveal', 'right',\n",
       "       'rival', 'robot', 'romanc', 'room', 'rule', 'run', 'save',\n",
       "       'school', 'sci', 'sea', 'search', 'season', 'second', 'secret',\n",
       "       'seek', 'self', 'sent', 'seri', 'series', 'set', 'seven', 'sever',\n",
       "       'sex', 'sexual', 'shanghai', 'shin', 'ship', 'shop', 'short',\n",
       "       'sinc', 'singl', 'sister', 'skill', 'sky', 'sliceoflif', 'small',\n",
       "       'someth', 'son', 'song', 'soon', 'soul', 'source', 'space',\n",
       "       'special', 'spend', 'spirit', 'sport', 'staff', 'stand', 'star',\n",
       "       'start', 'stay', 'step', 'stop', 'stori', 'story', 'strang',\n",
       "       'strong', 'struggl', 'student', 'studio', 'success', 'suddenli',\n",
       "       'summer', 'sunris', 'super', 'supernatur', 'surviv', 'sword',\n",
       "       'taken', 'tale', 'talent', 'talk', 'task', 'teach', 'teacher',\n",
       "       'team', 'tell', 'th', 'themselv', 'thi', 'thing', 'think',\n",
       "       'thought', 'threat', 'threaten', 'time', 'titl', 'tm', 'toei',\n",
       "       'togeth', 'tokyo', 'town', 'train', 'transfer', 'transform',\n",
       "       'travel', 'tri', 'troubl', 'true', 'truth', 'turn', 'tv', 'uniqu',\n",
       "       'unit', 'univers', 'unknown', 'use', 'uta', 'variou', 'veri',\n",
       "       'version', 'video', 'villag', 'visit', 'volum', 'wa', 'wake',\n",
       "       'want', 'war', 'warrior', 'watch', 'way', 'weapon', 'white',\n",
       "       'wikipedia', 'win', 'wish', 'wit', 'woman', 'women', 'work',\n",
       "       'world', 'year', 'years', 'young', 'youtub'], dtype=object)"
      ]
     },
     "execution_count": 42,
     "metadata": {},
     "output_type": "execute_result"
    }
   ],
   "source": [
    "cv.get_feature_names_out()"
   ]
  },
  {
   "cell_type": "code",
   "execution_count": 43,
   "metadata": {},
   "outputs": [
    {
     "data": {
      "text/plain": [
       "<Compressed Sparse Row sparse matrix of dtype 'int64'\n",
       "\twith 391210 stored elements and shape (24905, 500)>"
      ]
     },
     "execution_count": 43,
     "metadata": {},
     "output_type": "execute_result"
    }
   ],
   "source": [
    "vectors"
   ]
  },
  {
   "cell_type": "markdown",
   "metadata": {},
   "source": [
    "Now with the help of vectorization we will calculate which anime is closest to anime a by calculating angles bw two vectors on a plane of 5000d vectors"
   ]
  },
  {
   "cell_type": "code",
   "execution_count": 44,
   "metadata": {},
   "outputs": [],
   "source": [
    "from sklearn.metrics.pairwise import cosine_similarity"
   ]
  },
  {
   "cell_type": "code",
   "execution_count": 45,
   "metadata": {},
   "outputs": [],
   "source": [
    "similarity=cosine_similarity(vectors)"
   ]
  },
  {
   "cell_type": "code",
   "execution_count": 46,
   "metadata": {},
   "outputs": [],
   "source": [
    "def recommend(anime):\n",
    "\n",
    "    if anime not in anime_df_main['English name'].values:\n",
    "        print(f\"Anime '{anime}' not found in the dataset.\")\n",
    "        return\n",
    "    \n",
    "    index=anime_df_main[anime_df_main['English name']==anime].index[0]\n",
    "    distances=similarity[index]\n",
    "    anime_list=sorted(list(enumerate(distances)),reverse=True,key=lambda x:x[1])[0:6]\n",
    "\n",
    "    for i in anime_list:\n",
    "        print (anime_df_main.iloc[i[0]].Name)\n",
    "    "
   ]
  },
  {
   "cell_type": "code",
   "execution_count": 59,
   "metadata": {},
   "outputs": [
    {
     "name": "stdout",
     "output_type": "stream",
     "text": [
      "Sword Art Online\n",
      "Cardfight!! Vanguard\n",
      "Sword Art Online Movie: Ordinal Scale\n",
      "Sword Art Online II\n",
      "Kyuukyoku Shinka shita Full Dive RPG ga Genjitsu yori mo Kusoge Dattara\n",
      "Sword Art Online: Progressive Movie - Hoshi Naki Yoru no Aria\n"
     ]
    }
   ],
   "source": [
    "recommend('Sword Art Online')"
   ]
  },
  {
   "cell_type": "code",
   "execution_count": 56,
   "metadata": {},
   "outputs": [],
   "source": [
    "import pickle"
   ]
  },
  {
   "cell_type": "code",
   "execution_count": 52,
   "metadata": {},
   "outputs": [],
   "source": [
    "pickle.dump(anime_df_main.to_dict(),open('anime_list.pkl','wb'))"
   ]
  },
  {
   "cell_type": "code",
   "execution_count": 54,
   "metadata": {},
   "outputs": [],
   "source": [
    "pickle.dump(similarity,open('similarity.pkl','wb'))"
   ]
  }
 ],
 "metadata": {
  "kernelspec": {
   "display_name": "Python 3",
   "language": "python",
   "name": "python3"
  },
  "language_info": {
   "codemirror_mode": {
    "name": "ipython",
    "version": 3
   },
   "file_extension": ".py",
   "mimetype": "text/x-python",
   "name": "python",
   "nbconvert_exporter": "python",
   "pygments_lexer": "ipython3",
   "version": "3.13.1"
  }
 },
 "nbformat": 4,
 "nbformat_minor": 2
}
